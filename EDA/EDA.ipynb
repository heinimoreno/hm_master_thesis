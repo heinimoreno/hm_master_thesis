{
 "cells": [
  {
   "cell_type": "markdown",
   "metadata": {},
   "source": [
    "# Exploratory Data Analysis (EDA)  \n",
    "The provided script conducts an exploratory data analysis on a dataset of players. Below is a detailed breakdown of each step, followed by the relevant code snippets:\n",
    "\n",
    "## 1. Dataset Overview  \n",
    "This section provides a high-level summary of the dataset, including:\n",
    "\n",
    "- Total observations and variables.\n",
    "- Data types of variables.\n",
    "-Missing value details."
   ]
  },
  {
   "cell_type": "code",
   "execution_count": null,
   "metadata": {},
   "outputs": [],
   "source": [
    "import pandas as pd\n",
    "\n",
    "# Load the dataset\n",
    "file_path = '../data/raw/players_complete_raw.csv'\n",
    "df = pd.read_csv(file_path)\n",
    "\n",
    "# Dataset Summary\n",
    "total_observations = len(df)\n",
    "total_variables = df.shape[1]\n",
    "missing_values_total = df.isnull().sum().sum()\n",
    "missing_values_percentage = (missing_values_total / (len(df) * df.shape[1])) * 100\n",
    "\n",
    "# Display summary\n",
    "summary = pd.DataFrame({\n",
    "    \"Total Observations\": [total_observations],\n",
    "    \"Total Variables\": [total_variables],\n",
    "    \"Missing Values (Total)\": [missing_values_total],\n",
    "    \"Missing Values (%)\": [missing_values_percentage]\n",
    "})\n",
    "print(summary)\n",
    "\n",
    "# Missing Values Details\n",
    "missing_values_detail = df.isnull().sum()[df.isnull().sum() > 0]\n",
    "print(\"Missing Values Details:\", missing_values_detail)\n"
   ]
  },
  {
   "cell_type": "markdown",
   "metadata": {},
   "source": [
    "## 2. Heatmap of Missing Values  \n",
    "Visualizes missing values in the dataset to identify patterns or issues."
   ]
  },
  {
   "cell_type": "code",
   "execution_count": null,
   "metadata": {},
   "outputs": [],
   "source": [
    "import seaborn as sns\n",
    "import matplotlib.pyplot as plt\n",
    "\n",
    "# Heatmap for Missing Data\n",
    "plt.figure(figsize=(10, 6))\n",
    "sns.heatmap(df.isnull(), cbar=False, cmap='viridis')\n",
    "plt.title(\"Missing Data Heatmap\")\n",
    "plt.xlabel(\"Variables\")\n",
    "plt.ylabel(\"Observations\")\n",
    "plt.show()\n"
   ]
  },
  {
   "cell_type": "markdown",
   "metadata": {},
   "source": [
    "## 3. Distribution of Player Age  \n",
    "Displays the distribution of player ages with a histogram to identify common age ranges."
   ]
  },
  {
   "cell_type": "code",
   "execution_count": null,
   "metadata": {},
   "outputs": [],
   "source": [
    "import seaborn as sns\n",
    "import matplotlib.pyplot as plt\n",
    "\n",
    "# Convert 'Age in Season' to numeric\n",
    "df['Age in Season'] = pd.to_numeric(df['Age in Season'], errors='coerce')\n",
    "\n",
    "# Age Distribution\n",
    "plt.figure(figsize=(10, 6))\n",
    "sns.histplot(df['Age in Season'], bins=20, kde=True, color='blue')\n",
    "plt.title('Age Distribution of Players')\n",
    "plt.xlabel('Age in Season')\n",
    "plt.ylabel('Frequency')\n",
    "plt.grid(axis='y', linestyle='--', alpha=0.7)\n",
    "plt.show()\n"
   ]
  },
  {
   "cell_type": "markdown",
   "metadata": {},
   "source": [
    "## 4. Relationship Between Games Played and Market Value  \n",
    "Analyzes the correlation between games played and market value using a scatter plot."
   ]
  },
  {
   "cell_type": "code",
   "execution_count": null,
   "metadata": {},
   "outputs": [],
   "source": [
    "# Ensure numeric conversion\n",
    "df['Market_Value'] = pd.to_numeric(df['Market_Value'], errors='coerce')\n",
    "df['Games Played'] = pd.to_numeric(df['Games Played'], errors='coerce')\n",
    "\n",
    "# Scatter Plot\n",
    "plt.figure(figsize=(10, 6))\n",
    "sns.scatterplot(data=df, x='Games Played', y='Market_Value', alpha=0.7)\n",
    "plt.title('Market Value vs. Games Played')\n",
    "plt.xlabel('Games Played')\n",
    "plt.ylabel('Market Value (in millions)')\n",
    "plt.grid(linestyle='--', alpha=0.7)\n",
    "plt.show()\n"
   ]
  },
  {
   "cell_type": "markdown",
   "metadata": {},
   "source": [
    "## 5. Correlation Matrix of Numerical Variables  \n",
    "Examines relationships between numerical variables."
   ]
  },
  {
   "cell_type": "code",
   "execution_count": null,
   "metadata": {},
   "outputs": [],
   "source": [
    "# Select numerical variables\n",
    "numerical_columns = df.select_dtypes(include=['float64', 'int64']).columns\n",
    "\n",
    "# Calculate correlations\n",
    "correlation_matrix = df[numerical_columns].corr()\n",
    "\n",
    "# Heatmap of Correlations\n",
    "plt.figure(figsize=(12, 10))\n",
    "sns.heatmap(correlation_matrix, annot=True, fmt=\".2f\", cmap='coolwarm', cbar=True)\n",
    "plt.title('Correlation Matrix of Numerical Variables')\n",
    "plt.show()\n"
   ]
  },
  {
   "cell_type": "markdown",
   "metadata": {},
   "source": [
    "## 6. Market Value Distribution by Age  \n",
    "Illustrates how market value varies across different age groups."
   ]
  },
  {
   "cell_type": "code",
   "execution_count": null,
   "metadata": {},
   "outputs": [],
   "source": [
    "# Boxplot of Market Value by Age\n",
    "plt.figure(figsize=(10, 6))\n",
    "sns.boxplot(x='Age in Season', y='Market_Value', data=df)\n",
    "plt.title('Market Value Distribution by Age in Season')\n",
    "plt.xlabel('Age in Season')\n",
    "plt.ylabel('Market Value (in millions)')\n",
    "plt.grid(axis='y')\n",
    "plt.show()\n"
   ]
  },
  {
   "cell_type": "markdown",
   "metadata": {},
   "source": [
    "## 7. Average Goals by Age Group  \n",
    "Analyzes the average number of goals scored by players within different age ranges."
   ]
  },
  {
   "cell_type": "code",
   "execution_count": null,
   "metadata": {},
   "outputs": [],
   "source": [
    "# Create age groups\n",
    "df['Age Group'] = pd.cut(df['Age in Season'], bins=range(15, 41, 5), right=False)\n",
    "\n",
    "# Calculate average goals per age group\n",
    "avg_goals = df.groupby('Age Group')['Goals'].mean()\n",
    "\n",
    "# Bar Chart\n",
    "plt.figure(figsize=(10, 6))\n",
    "avg_goals.plot(kind='bar', color='skyblue', edgecolor='black')\n",
    "plt.title('Average Goals Scored by Age Group')\n",
    "plt.xlabel('Age Group')\n",
    "plt.ylabel('Average Goals Scored')\n",
    "plt.xticks(rotation=45)\n",
    "plt.grid(axis='y')\n",
    "plt.show()\n"
   ]
  },
  {
   "cell_type": "markdown",
   "metadata": {},
   "source": [
    "## 8. Player-Specific Trends  \n",
    "Tracks the market value progression of selected players over their careers."
   ]
  },
  {
   "cell_type": "code",
   "execution_count": null,
   "metadata": {},
   "outputs": [],
   "source": [
    "# Filter for selected players\n",
    "selected_players = ['Granit Xhaka', 'Taulant Xhaka']\n",
    "player_data = df[df['Name'].isin(selected_players)]\n",
    "\n",
    "# Plot market value progression\n",
    "plt.figure(figsize=(12, 6))\n",
    "for player in selected_players:\n",
    "    subset = player_data[player_data['Name'] == player]\n",
    "    plt.plot(subset['Age in Season'], subset['Market_Value'] / 1e6, marker='o', label=player)\n",
    "\n",
    "plt.title('Market Value Progression for Selected Players')\n",
    "plt.xlabel('Age in Season')\n",
    "plt.ylabel('Market Value (in millions)')\n",
    "plt.legend(title='Player Name')\n",
    "plt.grid()\n",
    "plt.show()\n"
   ]
  },
  {
   "cell_type": "markdown",
   "metadata": {},
   "source": [
    "## 9. League Representation by Player Position  \n",
    "Displays the number of players in each position across various leagues using a stacked bar chart."
   ]
  },
  {
   "cell_type": "code",
   "execution_count": null,
   "metadata": {},
   "outputs": [],
   "source": [
    "# Group data by league and position\n",
    "league_position_data = df.groupby(['Competition', 'Position']).size().unstack(fill_value=0)\n",
    "\n",
    "# Stacked Bar Chart\n",
    "league_position_data.plot(kind='bar', stacked=True, figsize=(12, 6), colormap='viridis')\n",
    "plt.title('League Representation by Player Position')\n",
    "plt.xlabel('League')\n",
    "plt.ylabel('Number of Players')\n",
    "plt.xticks(rotation=45)\n",
    "plt.legend(title='Position')\n",
    "plt.show()\n"
   ]
  },
  {
   "cell_type": "markdown",
   "metadata": {},
   "source": [
    "## 10. Heatmap of Goals vs. Games Played  \n",
    "Shows the density of goals scored relative to games played."
   ]
  },
  {
   "cell_type": "code",
   "execution_count": null,
   "metadata": {},
   "outputs": [],
   "source": [
    "# Density Heatmap\n",
    "plt.figure(figsize=(10, 6))\n",
    "sns.kdeplot(x='Games Played', y='Goals', data=df, cmap='Blues', fill=True)\n",
    "plt.title('Density Heatmap of Goals Scored vs. Games Played')\n",
    "plt.xlabel('Games Played')\n",
    "plt.ylabel('Goals Scored')\n",
    "plt.grid()\n",
    "plt.show()\n"
   ]
  }
 ],
 "metadata": {
  "language_info": {
   "name": "python"
  }
 },
 "nbformat": 4,
 "nbformat_minor": 2
}
